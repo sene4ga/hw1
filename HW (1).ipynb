{
  "cells": [
    {
      "cell_type": "markdown",
      "id": "72bc483c",
      "metadata": {
        "id": "72bc483c"
      },
      "source": [
        "# Кластеризация ЕГЭ (8.5 если сделаны все задачи)"
      ]
    },
    {
      "cell_type": "markdown",
      "id": "57bc2fba",
      "metadata": {
        "id": "57bc2fba"
      },
      "source": [
        "Рядом лежат экселевские таблицы с координатами точек. В 3 и 4 задаче используется манхетеское расстояние. В остальных Евклидово.\n",
        "\n",
        "* Постройте Распределение точек\n",
        "* Кластеризуйте руками\n",
        "* Постройте Распределение точек, отметьте принадлежность кластеров цветами\n",
        "* Найдите среди в каждом кластере точку расстояние от которой до всех остальных минимально\n",
        "* Выведите усреднение центров всех кластеров * 1000"
      ]
    },
    {
      "cell_type": "code",
      "execution_count": 114,
      "id": "cb6a6519",
      "metadata": {
        "id": "cb6a6519"
      },
      "outputs": [],
      "source": [
        "import pandas as pd\n",
        "import matplotlib.pyplot as plt\n",
        "import numpy as np"
      ]
    },
    {
      "cell_type": "markdown",
      "source": [
        "#1"
      ],
      "metadata": {
        "id": "F_OTtgQMJgVY"
      },
      "id": "F_OTtgQMJgVY"
    },
    {
      "cell_type": "code",
      "source": [
        "f = open(\"/content/0.txt\")\n",
        "f.readline()"
      ],
      "metadata": {
        "colab": {
          "base_uri": "https://localhost:8080/",
          "height": 36
        },
        "id": "Z-3c0QGlA6oh",
        "outputId": "b27ffd33-73e3-4b24-a6eb-9d07e73c1551"
      },
      "id": "Z-3c0QGlA6oh",
      "execution_count": 115,
      "outputs": [
        {
          "output_type": "execute_result",
          "data": {
            "text/plain": [
              "'X\\tY\\n'"
            ],
            "application/vnd.google.colaboratory.intrinsic+json": {
              "type": "string"
            }
          },
          "metadata": {},
          "execution_count": 115
        }
      ]
    },
    {
      "cell_type": "code",
      "source": [
        "s =[]\n",
        "for i  in f.readlines():\n",
        "  i = i.replace(',', '.')\n",
        "  s.append(list(map(float, i.split())))"
      ],
      "metadata": {
        "id": "Ls9DkzS3BKRo"
      },
      "id": "Ls9DkzS3BKRo",
      "execution_count": 116,
      "outputs": []
    },
    {
      "cell_type": "code",
      "source": [
        "cl1 = []\n",
        "cl2 = []\n",
        "n = n1 = n2 = 0\n",
        "\n",
        "for i in s:\n",
        "  n += 1\n",
        "  if (i[0] < 1.25 and i[1]>6):\n",
        "    cl1.append(i)\n",
        "    n1 += 1\n",
        "  else:\n",
        "    cl2.append(i)\n",
        "    n2 += 1\n",
        "print(n1, n2)\n",
        "print(n)"
      ],
      "metadata": {
        "colab": {
          "base_uri": "https://localhost:8080/"
        },
        "id": "5SsD3hQ4CWLG",
        "outputId": "2d19662f-d0f5-426d-b1ea-bf4e14ab1343"
      },
      "id": "5SsD3hQ4CWLG",
      "execution_count": 117,
      "outputs": [
        {
          "output_type": "stream",
          "name": "stdout",
          "text": [
            "50 50\n",
            "100\n"
          ]
        }
      ]
    },
    {
      "cell_type": "code",
      "source": [
        "def zov(spis):\n",
        "  minp = []\n",
        "  s = 0\n",
        "  mins = float('inf')\n",
        "  for i in spis:\n",
        "    s = 0\n",
        "    for j in spis:\n",
        "      s += ((i[0]-j[0])**2 + (i[1]-j[1])**2)**0.5\n",
        "    if s < mins:\n",
        "      minp = i\n",
        "      mins = s\n",
        "  return minp"
      ],
      "metadata": {
        "id": "58FfIHV3Dqkr"
      },
      "id": "58FfIHV3Dqkr",
      "execution_count": 118,
      "outputs": []
    },
    {
      "cell_type": "code",
      "source": [
        "z1 = zov(cl1)\n",
        "z2 = zov(cl2)"
      ],
      "metadata": {
        "id": "1Rn3rgT3E1oU"
      },
      "id": "1Rn3rgT3E1oU",
      "execution_count": 119,
      "outputs": []
    },
    {
      "cell_type": "code",
      "source": [
        "print((z1[0] + z2[0])*500)\n",
        "print((z1[1] + z2[1])*500)"
      ],
      "metadata": {
        "colab": {
          "base_uri": "https://localhost:8080/"
        },
        "id": "D3nROeQMFWqX",
        "outputId": "7ad2cbc7-f55c-4b1e-b356-621b2ac0270e"
      },
      "id": "D3nROeQMFWqX",
      "execution_count": 120,
      "outputs": [
        {
          "output_type": "stream",
          "name": "stdout",
          "text": [
            "1041.006278\n",
            "6671.173406499999\n"
          ]
        }
      ]
    },
    {
      "cell_type": "markdown",
      "source": [
        "#2"
      ],
      "metadata": {
        "id": "LEBtt9ghJb_g"
      },
      "id": "LEBtt9ghJb_g"
    },
    {
      "cell_type": "code",
      "source": [
        "f = open(\"/content/1.txt\")\n",
        "f.readline()"
      ],
      "metadata": {
        "colab": {
          "base_uri": "https://localhost:8080/",
          "height": 36
        },
        "id": "owcFYgb5Ip3D",
        "outputId": "738ac3ff-2742-43c4-a341-954d25129ae5"
      },
      "id": "owcFYgb5Ip3D",
      "execution_count": 121,
      "outputs": [
        {
          "output_type": "execute_result",
          "data": {
            "text/plain": [
              "'X\\tY\\n'"
            ],
            "application/vnd.google.colaboratory.intrinsic+json": {
              "type": "string"
            }
          },
          "metadata": {},
          "execution_count": 121
        }
      ]
    },
    {
      "cell_type": "code",
      "source": [
        "s =[]\n",
        "for i  in f.readlines():\n",
        "  i = i.replace(',', '.')\n",
        "  s.append(list(map(float, i.split())))"
      ],
      "metadata": {
        "id": "UVF9IhC0JOW-"
      },
      "id": "UVF9IhC0JOW-",
      "execution_count": 122,
      "outputs": []
    },
    {
      "cell_type": "code",
      "source": [
        "cl1 = []\n",
        "cl2 = []\n",
        "cl3 = []\n",
        "n = n1 = n2 = n3 = 0\n",
        "\n",
        "for i in s:\n",
        "  n += 1\n",
        "  if (i[0] < 8 and i[1]>0.5):\n",
        "    cl1.append(i)\n",
        "    n1 += 1\n",
        "  elif(i[1] > -1*i[0] + 9.5):\n",
        "    cl2.append(i)\n",
        "    n2 += 1\n",
        "  else:\n",
        "    cl3.append(i)\n",
        "    n3 +=1\n",
        "print(n1, n2, n3)\n",
        "print(n)"
      ],
      "metadata": {
        "colab": {
          "base_uri": "https://localhost:8080/"
        },
        "id": "aDq9ujEQJYxg",
        "outputId": "533b00cf-1a05-446e-a047-c4b5b0a44de9"
      },
      "id": "aDq9ujEQJYxg",
      "execution_count": 123,
      "outputs": [
        {
          "output_type": "stream",
          "name": "stdout",
          "text": [
            "3333 3333 3333\n",
            "9999\n"
          ]
        }
      ]
    },
    {
      "cell_type": "code",
      "source": [
        "z1 = zov(cl1)\n",
        "z2 = zov(cl2)\n",
        "z3 = zov(cl3)"
      ],
      "metadata": {
        "id": "9ZGC564lJUy4"
      },
      "id": "9ZGC564lJUy4",
      "execution_count": 125,
      "outputs": []
    },
    {
      "cell_type": "code",
      "source": [
        "print(((z1[0] + z2[0] + z3[0])/3)*1000)\n",
        "print((z1[1] + z2[1] + z3[1])/3*1000)"
      ],
      "metadata": {
        "colab": {
          "base_uri": "https://localhost:8080/"
        },
        "id": "hnnx5P-CMPoP",
        "outputId": "0c43cd45-7e75-45db-f4cb-33d0c98f6f8c"
      },
      "id": "hnnx5P-CMPoP",
      "execution_count": 126,
      "outputs": [
        {
          "output_type": "stream",
          "name": "stdout",
          "text": [
            "8177.530805000002\n",
            "738.4186756666668\n"
          ]
        }
      ]
    },
    {
      "cell_type": "markdown",
      "source": [
        "#3"
      ],
      "metadata": {
        "id": "WSCkcxPHNfHZ"
      },
      "id": "WSCkcxPHNfHZ"
    },
    {
      "cell_type": "code",
      "source": [
        "f = open(\"/content/2.txt\")\n",
        "f.readline"
      ],
      "metadata": {
        "colab": {
          "base_uri": "https://localhost:8080/"
        },
        "id": "cSTBNU_dNeYL",
        "outputId": "6dd8d5e4-7530-4e26-bafa-e6097b25624f"
      },
      "id": "cSTBNU_dNeYL",
      "execution_count": 127,
      "outputs": [
        {
          "output_type": "execute_result",
          "data": {
            "text/plain": [
              "<function TextIOWrapper.readline(size=-1, /)>"
            ]
          },
          "metadata": {},
          "execution_count": 127
        }
      ]
    },
    {
      "cell_type": "code",
      "source": [
        "s =[]\n",
        "for i  in f.readlines():\n",
        "  i = i.replace(',', '.')\n",
        "  s.append(list(map(float, i.split())))"
      ],
      "metadata": {
        "id": "Z3pLDDGwNvjt"
      },
      "id": "Z3pLDDGwNvjt",
      "execution_count": 128,
      "outputs": []
    },
    {
      "cell_type": "code",
      "source": [
        "cl1 = []\n",
        "cl2 = []\n",
        "n = n1 = n2 = 0\n",
        "\n",
        "for i in s:\n",
        "  n += 1\n",
        "  if (i[0] < 24):\n",
        "    cl1.append(i)\n",
        "    n1 += 1\n",
        "  else:\n",
        "    cl2.append(i)\n",
        "    n2 +=1\n",
        "print(n1, n2)\n",
        "print(n)"
      ],
      "metadata": {
        "colab": {
          "base_uri": "https://localhost:8080/"
        },
        "id": "H50b_3SjNwxe",
        "outputId": "d6429459-2c13-42e4-f083-175d6b0ed49f"
      },
      "id": "H50b_3SjNwxe",
      "execution_count": 129,
      "outputs": [
        {
          "output_type": "stream",
          "name": "stdout",
          "text": [
            "476 524\n",
            "1000\n"
          ]
        }
      ]
    },
    {
      "cell_type": "code",
      "source": [
        "def zovm(spis):\n",
        "  minp = []\n",
        "  s = 0\n",
        "  mins = float('inf')\n",
        "  for i in spis:\n",
        "    s = 0\n",
        "    for j in spis:\n",
        "      s += (abs(i[0]-j[0]) + abs(i[1]-j[1]))\n",
        "    if s < mins:\n",
        "      minp = i\n",
        "      mins = s\n",
        "  return minp"
      ],
      "metadata": {
        "id": "r6yyqMUBOvKX"
      },
      "id": "r6yyqMUBOvKX",
      "execution_count": 130,
      "outputs": []
    },
    {
      "cell_type": "code",
      "source": [
        "z1 = zovm(cl1)\n",
        "z2 = zovm(cl2)"
      ],
      "metadata": {
        "id": "Bt_qrknCOBi7"
      },
      "id": "Bt_qrknCOBi7",
      "execution_count": 131,
      "outputs": []
    },
    {
      "cell_type": "code",
      "source": [
        "print((z1[0]+z2[0])*500)\n",
        "print((z1[1]+z2[1])*500)"
      ],
      "metadata": {
        "colab": {
          "base_uri": "https://localhost:8080/"
        },
        "id": "0Ly2j2qFOFsO",
        "outputId": "607f7df6-32d3-4850-919c-7507288b9c15"
      },
      "id": "0Ly2j2qFOFsO",
      "execution_count": 132,
      "outputs": [
        {
          "output_type": "stream",
          "name": "stdout",
          "text": [
            "23509.902664999998\n",
            "554.6822819999999\n"
          ]
        }
      ]
    },
    {
      "cell_type": "markdown",
      "source": [
        "#4"
      ],
      "metadata": {
        "id": "5Aqnd3SsPCXk"
      },
      "id": "5Aqnd3SsPCXk"
    },
    {
      "cell_type": "code",
      "source": [
        "f = open(\"/content/3.txt\")"
      ],
      "metadata": {
        "id": "IxraaoCLPCHj"
      },
      "id": "IxraaoCLPCHj",
      "execution_count": 133,
      "outputs": []
    },
    {
      "cell_type": "code",
      "source": [
        "s =[]\n",
        "for i  in f.readlines():\n",
        "  i = i.replace(',', '.')\n",
        "  s.append(list(map(float, i.split())))"
      ],
      "metadata": {
        "id": "JxQ-ZhHRPBTJ"
      },
      "id": "JxQ-ZhHRPBTJ",
      "execution_count": 134,
      "outputs": []
    },
    {
      "cell_type": "code",
      "source": [
        "cl1 = []\n",
        "cl2 = []\n",
        "cl3 = []\n",
        "n = n1 = n2 = n3 = 0\n",
        "\n",
        "for i in s:\n",
        "  n += 1\n",
        "  if (i[0] < -10):\n",
        "    cl1.append(i)\n",
        "    n1 += 1\n",
        "  elif(i[0] < 16):\n",
        "    cl2.append(i)\n",
        "    n2 +=1\n",
        "  else:\n",
        "    cl3.append(i)\n",
        "    n3+=1\n",
        "print(n1, n2,n3)\n",
        "print(n)"
      ],
      "metadata": {
        "colab": {
          "base_uri": "https://localhost:8080/"
        },
        "id": "k_cVej4MPiuD",
        "outputId": "3453b53d-85c3-41cc-9de9-809a41e2fec1"
      },
      "id": "k_cVej4MPiuD",
      "execution_count": 135,
      "outputs": [
        {
          "output_type": "stream",
          "name": "stdout",
          "text": [
            "3429 3284 3287\n",
            "10000\n"
          ]
        }
      ]
    },
    {
      "cell_type": "code",
      "source": [
        "z1 = zovm(cl1)\n",
        "z2 = zovm(cl2)\n",
        "z3 = zovm(cl3)"
      ],
      "metadata": {
        "id": "y_6XtatYQHHo"
      },
      "id": "y_6XtatYQHHo",
      "execution_count": 136,
      "outputs": []
    },
    {
      "cell_type": "code",
      "source": [
        "print(((z1[0] + z2[0] + z3[0])/3)*1000)\n",
        "print((z1[1] + z2[1] + z3[1])/3*1000)"
      ],
      "metadata": {
        "colab": {
          "base_uri": "https://localhost:8080/"
        },
        "id": "dUhQJeNAQTwD",
        "outputId": "875fdd9e-f4d4-455a-a774-33d38d49e5d7"
      },
      "id": "dUhQJeNAQTwD",
      "execution_count": 137,
      "outputs": [
        {
          "output_type": "stream",
          "name": "stdout",
          "text": [
            "3078.894014666666\n",
            "-4758.945237\n"
          ]
        }
      ]
    },
    {
      "cell_type": "markdown",
      "source": [
        "#5"
      ],
      "metadata": {
        "id": "zrP1SQNwQuF6"
      },
      "id": "zrP1SQNwQuF6"
    },
    {
      "cell_type": "code",
      "source": [
        "f = open(\"/content/4.txt\")\n",
        "f.readline()"
      ],
      "metadata": {
        "colab": {
          "base_uri": "https://localhost:8080/",
          "height": 36
        },
        "id": "xtFv1fgaQXG1",
        "outputId": "ddc287e3-9d79-44c5-c65e-19c6adac8306"
      },
      "id": "xtFv1fgaQXG1",
      "execution_count": 138,
      "outputs": [
        {
          "output_type": "execute_result",
          "data": {
            "text/plain": [
              "'X\\tY\\n'"
            ],
            "application/vnd.google.colaboratory.intrinsic+json": {
              "type": "string"
            }
          },
          "metadata": {},
          "execution_count": 138
        }
      ]
    },
    {
      "cell_type": "code",
      "source": [
        "s =[]\n",
        "for i  in f.readlines():\n",
        "  i = i.replace(',', '.')\n",
        "  s.append(list(map(float, i.split())))"
      ],
      "metadata": {
        "id": "6ojPZ0vfQ3LA"
      },
      "id": "6ojPZ0vfQ3LA",
      "execution_count": 139,
      "outputs": []
    },
    {
      "cell_type": "code",
      "source": [
        "cl1 = []\n",
        "cl2 = []\n",
        "n = n1 = n2 = 0\n",
        "\n",
        "for i in s:\n",
        "  n += 1\n",
        "  if (i[1] > i[0]+2):\n",
        "    cl1.append(i)\n",
        "    n1 += 1\n",
        "  else:\n",
        "    cl2.append(i)\n",
        "    n2+=1\n",
        "print(n1, n2)\n",
        "print(n)"
      ],
      "metadata": {
        "colab": {
          "base_uri": "https://localhost:8080/"
        },
        "id": "e8ceXAU_Q7bY",
        "outputId": "1e833135-4914-4a41-dbe1-76b9b49049a5"
      },
      "id": "e8ceXAU_Q7bY",
      "execution_count": 140,
      "outputs": [
        {
          "output_type": "stream",
          "name": "stdout",
          "text": [
            "250 250\n",
            "500\n"
          ]
        }
      ]
    },
    {
      "cell_type": "code",
      "source": [
        "z1 = zov(cl1)\n",
        "z2 = zov(cl2)"
      ],
      "metadata": {
        "id": "9P8K-w2SRHwr"
      },
      "id": "9P8K-w2SRHwr",
      "execution_count": 141,
      "outputs": []
    },
    {
      "cell_type": "code",
      "source": [
        "print((z1[0]+z2[0])*500)\n",
        "print((z1[1]+z2[1])*500)"
      ],
      "metadata": {
        "colab": {
          "base_uri": "https://localhost:8080/"
        },
        "id": "ynfKEvT4RSMf",
        "outputId": "c5a16899-e8a0-4cb8-83ac-1e3c6b13de42"
      },
      "id": "ynfKEvT4RSMf",
      "execution_count": 142,
      "outputs": [
        {
          "output_type": "stream",
          "name": "stdout",
          "text": [
            "2588.539922\n",
            "4996.5675034999995\n"
          ]
        }
      ]
    },
    {
      "cell_type": "markdown",
      "source": [
        "#6"
      ],
      "metadata": {
        "id": "8nMEUgBhRc6Y"
      },
      "id": "8nMEUgBhRc6Y"
    },
    {
      "cell_type": "code",
      "source": [
        "f = open(\"/content/5.txt\")\n",
        "f.readline()"
      ],
      "metadata": {
        "colab": {
          "base_uri": "https://localhost:8080/",
          "height": 36
        },
        "id": "IiOqQbYxRcWF",
        "outputId": "cca1c188-b64f-4b00-a224-19aaef35c971"
      },
      "id": "IiOqQbYxRcWF",
      "execution_count": 143,
      "outputs": [
        {
          "output_type": "execute_result",
          "data": {
            "text/plain": [
              "'X\\tY\\n'"
            ],
            "application/vnd.google.colaboratory.intrinsic+json": {
              "type": "string"
            }
          },
          "metadata": {},
          "execution_count": 143
        }
      ]
    },
    {
      "cell_type": "code",
      "source": [
        "s =[]\n",
        "for i  in f.readlines():\n",
        "  i = i.replace(',', '.')\n",
        "  s.append(list(map(float, i.split())))"
      ],
      "metadata": {
        "id": "wcj1Qs00R7wZ"
      },
      "id": "wcj1Qs00R7wZ",
      "execution_count": 144,
      "outputs": []
    },
    {
      "cell_type": "code",
      "source": [
        "cl1 = []\n",
        "cl2 = []\n",
        "cl3 = []\n",
        "n = n1 = n2 = n3 = 0\n",
        "\n",
        "for i in s:\n",
        "  n += 1\n",
        "  if (i[0] < 0 and i[1]<3.5):\n",
        "    cl1.append(i)\n",
        "    n1 += 1\n",
        "  elif(i[1] < i[0] + 3):\n",
        "    cl2.append(i)\n",
        "    n2 +=1\n",
        "  else:\n",
        "    cl3.append(i)\n",
        "    n3+=1\n",
        "print(n1, n2,n3)\n",
        "print(n)"
      ],
      "metadata": {
        "colab": {
          "base_uri": "https://localhost:8080/"
        },
        "id": "tb019I33R8lQ",
        "outputId": "399bd68a-d237-448b-a850-72087d33bf5d"
      },
      "id": "tb019I33R8lQ",
      "execution_count": 145,
      "outputs": [
        {
          "output_type": "stream",
          "name": "stdout",
          "text": [
            "3333 3333 3333\n",
            "9999\n"
          ]
        }
      ]
    },
    {
      "cell_type": "code",
      "source": [
        "z1 = zov(cl1)\n",
        "z2 = zov(cl2)\n",
        "z3 = zov(cl3)"
      ],
      "metadata": {
        "id": "LVVuoI4ZSbMK"
      },
      "id": "LVVuoI4ZSbMK",
      "execution_count": 146,
      "outputs": []
    },
    {
      "cell_type": "code",
      "source": [
        "print(((z1[0] + z2[0] + z3[0])/3)*1000)\n",
        "print((z1[1] + z2[1] + z3[1])/3*1000)"
      ],
      "metadata": {
        "colab": {
          "base_uri": "https://localhost:8080/"
        },
        "id": "iIDePbLsSf-_",
        "outputId": "9b2fe101-808b-40d7-b2a0-f59aaf8dbe98"
      },
      "id": "iIDePbLsSf-_",
      "execution_count": 147,
      "outputs": [
        {
          "output_type": "stream",
          "name": "stdout",
          "text": [
            "61.652188666666625\n",
            "3723.362146333333\n"
          ]
        }
      ]
    },
    {
      "cell_type": "markdown",
      "id": "f3df8814",
      "metadata": {
        "id": "f3df8814"
      },
      "source": [
        "# Кластеризация (0.75 за каждый алгоритм на всех данных)"
      ]
    },
    {
      "cell_type": "markdown",
      "id": "1cf53319",
      "metadata": {
        "id": "1cf53319"
      },
      "source": [
        "На предложенных распределениях данных проверьте предложенные алгоритмы. Постройте графики кластеризации для каждой пары алгоритм-данные, разные кластеры покрасьте разным цветом. Воспользуйтесь sklearn реализациями. Параметры кластеризации для разных алгоритмов подберите такие, чтобы алгоритмы можно было сравнивать (по возможности одинаковое количество кластеров и т.д.)"
      ]
    },
    {
      "cell_type": "code",
      "execution_count": 148,
      "id": "27e323b3",
      "metadata": {
        "id": "27e323b3"
      },
      "outputs": [],
      "source": [
        "import time\n",
        "import warnings\n",
        "\n",
        "import numpy as np\n",
        "import matplotlib.pyplot as plt\n",
        "\n",
        "from sklearn import cluster, datasets, mixture\n",
        "from sklearn.neighbors import kneighbors_graph\n",
        "from sklearn.preprocessing import StandardScaler\n",
        "from itertools import cycle, islice"
      ]
    },
    {
      "cell_type": "code",
      "execution_count": null,
      "id": "8f18470f",
      "metadata": {
        "id": "8f18470f"
      },
      "outputs": [],
      "source": [
        "two_means =\n",
        "dbscan =\n",
        "\n",
        "clustering_algorithms = (\n",
        "        (\"MiniBatch\\nKMeans\", two_means),\n",
        "        (\"DBSCAN\", dbscan),\n",
        "    )"
      ]
    },
    {
      "cell_type": "code",
      "execution_count": null,
      "id": "ae73f346",
      "metadata": {
        "id": "ae73f346"
      },
      "outputs": [],
      "source": [
        "np.random.seed(0)\n",
        "\n",
        "# ============\n",
        "# Generate datasets. We choose the size big enough to see the scalability\n",
        "# of the algorithms, but not too big to avoid too long running times\n",
        "# ============\n",
        "n_samples = 1500\n",
        "noisy_circles = datasets.make_circles(n_samples=n_samples, factor=0.5, noise=0.05)\n",
        "noisy_moons = datasets.make_moons(n_samples=n_samples, noise=0.05)\n",
        "blobs = datasets.make_blobs(n_samples=n_samples, random_state=8)\n",
        "no_structure = np.random.rand(n_samples, 2), None\n",
        "\n",
        "# Anisotropicly distributed data\n",
        "random_state = 170\n",
        "X, y = datasets.make_blobs(n_samples=n_samples, random_state=random_state)\n",
        "transformation = [[0.6, -0.6], [-0.4, 0.8]]\n",
        "X_aniso = np.dot(X, transformation)\n",
        "aniso = (X_aniso, y)\n",
        "\n",
        "# blobs with varied variances\n",
        "varied = datasets.make_blobs(\n",
        "    n_samples=n_samples, cluster_std=[1.0, 2.5, 0.5], random_state=random_state\n",
        ")\n",
        "\n",
        "# ============\n",
        "# Set up cluster parameters\n",
        "# ============\n",
        "plt.figure(figsize=(9 * 2 + 3, 13))\n",
        "plt.subplots_adjust(\n",
        "    left=0.02, right=0.98, bottom=0.001, top=0.95, wspace=0.05, hspace=0.01\n",
        ")\n",
        "\n",
        "plot_num = 1\n",
        "\n",
        "default_base = {\n",
        "    \"quantile\": 0.3,\n",
        "    \"eps\": 0.3,\n",
        "    \"damping\": 0.9,\n",
        "    \"preference\": -200,\n",
        "    \"n_neighbors\": 10,\n",
        "    \"n_clusters\": 3,\n",
        "    \"min_samples\": 20,\n",
        "    \"xi\": 0.05,\n",
        "    \"min_cluster_size\": 0.1,\n",
        "}\n",
        "\n",
        "datasets = [\n",
        "    (\n",
        "        noisy_circles,\n",
        "        {\n",
        "            \"damping\": 0.77,\n",
        "            \"preference\": -240,\n",
        "            \"quantile\": 0.2,\n",
        "            \"n_clusters\": 2,\n",
        "            \"min_samples\": 20,\n",
        "            \"xi\": 0.25,\n",
        "        },\n",
        "    ),\n",
        "    (noisy_moons, {\"damping\": 0.75, \"preference\": -220, \"n_clusters\": 2}),\n",
        "    (\n",
        "        varied,\n",
        "        {\n",
        "            \"eps\": 0.18,\n",
        "            \"n_neighbors\": 2,\n",
        "            \"min_samples\": 5,\n",
        "            \"xi\": 0.035,\n",
        "            \"min_cluster_size\": 0.2,\n",
        "        },\n",
        "    ),\n",
        "    (\n",
        "        aniso,\n",
        "        {\n",
        "            \"eps\": 0.15,\n",
        "            \"n_neighbors\": 2,\n",
        "            \"min_samples\": 20,\n",
        "            \"xi\": 0.1,\n",
        "            \"min_cluster_size\": 0.2,\n",
        "        },\n",
        "    ),\n",
        "    (blobs, {}),\n",
        "    (no_structure, {}),\n",
        "]\n",
        "\n",
        "for i_dataset, (dataset, algo_params) in enumerate(datasets):\n",
        "    # update parameters with dataset-specific values\n",
        "    params = default_base.copy()\n",
        "    params.update(algo_params)\n",
        "\n",
        "    X, y = dataset\n",
        "\n",
        "    # normalize dataset for easier parameter selection\n",
        "    X = StandardScaler().fit_transform(X)\n",
        "\n",
        "    # estimate bandwidth for mean shift\n",
        "    bandwidth = cluster.estimate_bandwidth(X, quantile=params[\"quantile\"])\n",
        "\n",
        "    # connectivity matrix for structured Ward\n",
        "    connectivity = kneighbors_graph(\n",
        "        X, n_neighbors=params[\"n_neighbors\"], include_self=False\n",
        "    )\n",
        "    # make connectivity symmetric\n",
        "    connectivity = 0.5 * (connectivity + connectivity.T)\n",
        "\n",
        "    for name, algorithm in clustering_algorithms:\n",
        "        t0 = time.time()"
      ]
    }
  ],
  "metadata": {
    "kernelspec": {
      "display_name": "Python 3 (ipykernel)",
      "language": "python",
      "name": "python3"
    },
    "language_info": {
      "codemirror_mode": {
        "name": "ipython",
        "version": 3
      },
      "file_extension": ".py",
      "mimetype": "text/x-python",
      "name": "python",
      "nbconvert_exporter": "python",
      "pygments_lexer": "ipython3",
      "version": "3.9.12"
    },
    "colab": {
      "provenance": []
    }
  },
  "nbformat": 4,
  "nbformat_minor": 5
}